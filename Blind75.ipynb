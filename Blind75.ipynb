{
  "nbformat": 4,
  "nbformat_minor": 0,
  "metadata": {
    "colab": {
      "provenance": [],
      "collapsed_sections": [],
      "authorship_tag": "ABX9TyNFvTfaHoiROEJASSW7w7iV",
      "include_colab_link": true
    },
    "kernelspec": {
      "name": "python3",
      "display_name": "Python 3"
    },
    "language_info": {
      "name": "python"
    }
  },
  "cells": [
    {
      "cell_type": "markdown",
      "metadata": {
        "id": "view-in-github",
        "colab_type": "text"
      },
      "source": [
        "<a href=\"https://colab.research.google.com/github/mvdheram/DataStructures-Algorithms/blob/master/Blind75.ipynb\" target=\"_parent\"><img src=\"https://colab.research.google.com/assets/colab-badge.svg\" alt=\"Open In Colab\"/></a>"
      ]
    },
    {
      "cell_type": "markdown",
      "source": [
        "# BLIND 75\n",
        "\n",
        "\n",
        "[1] **Math Basic** : https://algo.monster/problems/math-basics \\\\\n",
        "[2] **Run-time Cheatsheet** : https://algo.monster/problems/runtime_summary \\\\\n",
        "[3] **Tech interview preparation** :https://www.techinterviewhandbook.org/best-practice-questions/ \\\\\n",
        "[4] **Problem solving patterns** : https://hackernoon.com/14-patterns-to-ace-any-coding-interview-question-c5bb3357f6ed"
      ],
      "metadata": {
        "id": "VKvm6yNckNqr"
      }
    },
    {
      "cell_type": "markdown",
      "source": [
        "## Arrays \n",
        "* **What** : *Contigious area of memory consisting of equal size(type) of elements*\n",
        "* Two types:\n",
        "  1. *Static* - Fixed length container containing n elements indexable from [0,n-1]\n",
        "    * **Why?**\n",
        "      * Storing and accessing sequential data\n",
        "      * Temp storage \n",
        "    * **Speciality** \n",
        "      * **Constant time access**\n",
        "       * How?\n",
        "        * Arrays are indexable \n",
        "    * Syntax :\n",
        "      * **C** => *arr_type array_name [arraySize]* - `int balance[10]` or ` int balance[] = {1,2,3,4,5,6,7}`\n",
        "      * **Java** => \n",
        "      * **Python**\n",
        "\n",
        "  2. *Dynamic* - Variable size array which grow and shrink in size (underthehood resized using statis array)\n",
        "\n",
        "\n",
        "\n",
        " \n",
        "\n",
        "\n",
        "---\n",
        "Algo Prep : https://www.techinterviewhandbook.org/algorithms/array/ \\\\\n",
        "Leetcode - **Python** : https://neetcode.io/ \\\\\n",
        "Leetcode - **Java** : https://www.youtube.com/watch?v=4oZsPXG9B94&list=PLU_sdQYzUj2keVENTP0a5rdykRSgg9Wp-&index=3 \\\\\n",
        "Leetcode - **C** : \n",
        "\n",
        "---"
      ],
      "metadata": {
        "id": "bhvcdM9kkQtl"
      }
    },
    {
      "cell_type": "markdown",
      "source": [
        "## Complexity "
      ],
      "metadata": {
        "id": "0stU1q6qHwnw"
      }
    },
    {
      "cell_type": "markdown",
      "source": [
        "**Notes**:\n",
        "\n",
        "* Constant access because arrays are indexable \n",
        "* Insert, delete and append not applicable to static array as its fixed size.\n",
        "* Insert and Delete in dynamic array can take linear time in the worst case scenario of excceding the size of static array \n",
        "* Append operation in dynamic array takes constant time as its negligeble. "
      ],
      "metadata": {
        "id": "2HEd94m4JE7h"
      }
    },
    {
      "cell_type": "code",
      "source": [
        "import pandas as pd\n",
        "import numpy as np\n",
        "\n",
        "df = pd.DataFrame({'Operation' : ['Access', 'Search','Insert','Append','Delete'],'Static Array' :['O(1)','O(n)','N/A','N/A','N/A'],'Dynamic Array': ['O(1)','O(n)','O(n)','O(1)','O(n)']})\n",
        "df"
      ],
      "metadata": {
        "colab": {
          "base_uri": "https://localhost:8080/",
          "height": 206
        },
        "id": "m5XgcYmfGQog",
        "outputId": "50d972b0-d611-4ec3-8334-e1eaec121064"
      },
      "execution_count": null,
      "outputs": [
        {
          "output_type": "execute_result",
          "data": {
            "text/plain": [
              "  Operation Static Array Dynamic Array\n",
              "0    Access         O(1)          O(1)\n",
              "1    Search         O(n)          O(n)\n",
              "2    Insert          N/A          O(n)\n",
              "3    Append          N/A          O(1)\n",
              "4    Delete          N/A          O(n)"
            ],
            "text/html": [
              "\n",
              "  <div id=\"df-5b8859b3-d432-4c2d-879a-997dd0496649\">\n",
              "    <div class=\"colab-df-container\">\n",
              "      <div>\n",
              "<style scoped>\n",
              "    .dataframe tbody tr th:only-of-type {\n",
              "        vertical-align: middle;\n",
              "    }\n",
              "\n",
              "    .dataframe tbody tr th {\n",
              "        vertical-align: top;\n",
              "    }\n",
              "\n",
              "    .dataframe thead th {\n",
              "        text-align: right;\n",
              "    }\n",
              "</style>\n",
              "<table border=\"1\" class=\"dataframe\">\n",
              "  <thead>\n",
              "    <tr style=\"text-align: right;\">\n",
              "      <th></th>\n",
              "      <th>Operation</th>\n",
              "      <th>Static Array</th>\n",
              "      <th>Dynamic Array</th>\n",
              "    </tr>\n",
              "  </thead>\n",
              "  <tbody>\n",
              "    <tr>\n",
              "      <th>0</th>\n",
              "      <td>Access</td>\n",
              "      <td>O(1)</td>\n",
              "      <td>O(1)</td>\n",
              "    </tr>\n",
              "    <tr>\n",
              "      <th>1</th>\n",
              "      <td>Search</td>\n",
              "      <td>O(n)</td>\n",
              "      <td>O(n)</td>\n",
              "    </tr>\n",
              "    <tr>\n",
              "      <th>2</th>\n",
              "      <td>Insert</td>\n",
              "      <td>N/A</td>\n",
              "      <td>O(n)</td>\n",
              "    </tr>\n",
              "    <tr>\n",
              "      <th>3</th>\n",
              "      <td>Append</td>\n",
              "      <td>N/A</td>\n",
              "      <td>O(1)</td>\n",
              "    </tr>\n",
              "    <tr>\n",
              "      <th>4</th>\n",
              "      <td>Delete</td>\n",
              "      <td>N/A</td>\n",
              "      <td>O(n)</td>\n",
              "    </tr>\n",
              "  </tbody>\n",
              "</table>\n",
              "</div>\n",
              "      <button class=\"colab-df-convert\" onclick=\"convertToInteractive('df-5b8859b3-d432-4c2d-879a-997dd0496649')\"\n",
              "              title=\"Convert this dataframe to an interactive table.\"\n",
              "              style=\"display:none;\">\n",
              "        \n",
              "  <svg xmlns=\"http://www.w3.org/2000/svg\" height=\"24px\"viewBox=\"0 0 24 24\"\n",
              "       width=\"24px\">\n",
              "    <path d=\"M0 0h24v24H0V0z\" fill=\"none\"/>\n",
              "    <path d=\"M18.56 5.44l.94 2.06.94-2.06 2.06-.94-2.06-.94-.94-2.06-.94 2.06-2.06.94zm-11 1L8.5 8.5l.94-2.06 2.06-.94-2.06-.94L8.5 2.5l-.94 2.06-2.06.94zm10 10l.94 2.06.94-2.06 2.06-.94-2.06-.94-.94-2.06-.94 2.06-2.06.94z\"/><path d=\"M17.41 7.96l-1.37-1.37c-.4-.4-.92-.59-1.43-.59-.52 0-1.04.2-1.43.59L10.3 9.45l-7.72 7.72c-.78.78-.78 2.05 0 2.83L4 21.41c.39.39.9.59 1.41.59.51 0 1.02-.2 1.41-.59l7.78-7.78 2.81-2.81c.8-.78.8-2.07 0-2.86zM5.41 20L4 18.59l7.72-7.72 1.47 1.35L5.41 20z\"/>\n",
              "  </svg>\n",
              "      </button>\n",
              "      \n",
              "  <style>\n",
              "    .colab-df-container {\n",
              "      display:flex;\n",
              "      flex-wrap:wrap;\n",
              "      gap: 12px;\n",
              "    }\n",
              "\n",
              "    .colab-df-convert {\n",
              "      background-color: #E8F0FE;\n",
              "      border: none;\n",
              "      border-radius: 50%;\n",
              "      cursor: pointer;\n",
              "      display: none;\n",
              "      fill: #1967D2;\n",
              "      height: 32px;\n",
              "      padding: 0 0 0 0;\n",
              "      width: 32px;\n",
              "    }\n",
              "\n",
              "    .colab-df-convert:hover {\n",
              "      background-color: #E2EBFA;\n",
              "      box-shadow: 0px 1px 2px rgba(60, 64, 67, 0.3), 0px 1px 3px 1px rgba(60, 64, 67, 0.15);\n",
              "      fill: #174EA6;\n",
              "    }\n",
              "\n",
              "    [theme=dark] .colab-df-convert {\n",
              "      background-color: #3B4455;\n",
              "      fill: #D2E3FC;\n",
              "    }\n",
              "\n",
              "    [theme=dark] .colab-df-convert:hover {\n",
              "      background-color: #434B5C;\n",
              "      box-shadow: 0px 1px 3px 1px rgba(0, 0, 0, 0.15);\n",
              "      filter: drop-shadow(0px 1px 2px rgba(0, 0, 0, 0.3));\n",
              "      fill: #FFFFFF;\n",
              "    }\n",
              "  </style>\n",
              "\n",
              "      <script>\n",
              "        const buttonEl =\n",
              "          document.querySelector('#df-5b8859b3-d432-4c2d-879a-997dd0496649 button.colab-df-convert');\n",
              "        buttonEl.style.display =\n",
              "          google.colab.kernel.accessAllowed ? 'block' : 'none';\n",
              "\n",
              "        async function convertToInteractive(key) {\n",
              "          const element = document.querySelector('#df-5b8859b3-d432-4c2d-879a-997dd0496649');\n",
              "          const dataTable =\n",
              "            await google.colab.kernel.invokeFunction('convertToInteractive',\n",
              "                                                     [key], {});\n",
              "          if (!dataTable) return;\n",
              "\n",
              "          const docLinkHtml = 'Like what you see? Visit the ' +\n",
              "            '<a target=\"_blank\" href=https://colab.research.google.com/notebooks/data_table.ipynb>data table notebook</a>'\n",
              "            + ' to learn more about interactive tables.';\n",
              "          element.innerHTML = '';\n",
              "          dataTable['output_type'] = 'display_data';\n",
              "          await google.colab.output.renderOutput(dataTable, element);\n",
              "          const docLink = document.createElement('div');\n",
              "          docLink.innerHTML = docLinkHtml;\n",
              "          element.appendChild(docLink);\n",
              "        }\n",
              "      </script>\n",
              "    </div>\n",
              "  </div>\n",
              "  "
            ]
          },
          "metadata": {},
          "execution_count": 3
        }
      ]
    },
    {
      "cell_type": "markdown",
      "source": [
        "### Contains Duplicate : https://leetcode.com/problems/contains-duplicate/\n",
        "\n",
        "```\n",
        "Input: nums = [1,2,3,1]\n",
        "Output: true\n",
        "```\n",
        "\n",
        "**Idea: Use Hashmap** "
      ],
      "metadata": {
        "id": "GPySM8OSojSr"
      }
    },
    {
      "cell_type": "code",
      "execution_count": null,
      "metadata": {
        "colab": {
          "base_uri": "https://localhost:8080/",
          "height": 35
        },
        "id": "KUMcSIfXifJz",
        "outputId": "60e7f0cd-adea-406f-afba-3960ede621d6"
      },
      "outputs": [
        {
          "output_type": "execute_result",
          "data": {
            "text/plain": [
              "''"
            ],
            "application/vnd.google.colaboratory.intrinsic+json": {
              "type": "string"
            }
          },
          "metadata": {},
          "execution_count": 17
        }
      ],
      "source": [
        "class Solution:\n",
        "    def containsDuplicate(self, nums: List[int]) -> bool:\n",
        "        hashset = set()\n",
        "\n",
        "        for n in nums:\n",
        "            if n in hashset:\n",
        "                return True\n",
        "            hashset.add(n)\n",
        "        return False"
      ]
    },
    {
      "cell_type": "markdown",
      "source": [
        "### Valid Anagram : https://leetcode.com/problems/valid-anagram/\n",
        "\n",
        "```\n",
        "Input: s = \"anagram\", t = \"nagaram\"\n",
        "Output: true\n",
        "```\n",
        "\n",
        "**Idea: Use the counts and compare two strings** "
      ],
      "metadata": {
        "id": "0dINFFaYc0wk"
      }
    },
    {
      "cell_type": "code",
      "source": [
        "from collections import Counter\n",
        "\n",
        "class Solution:\n",
        "  def isAnagram(self, s :str, t:str) -> bool:\n",
        "    \n",
        "    s1 = Counter(s)\n",
        "    s2 = Counter(t)\n",
        "\n",
        "    if s1==s2:\n",
        "      print(True)\n",
        "    else:\n",
        "      print(False)"
      ],
      "metadata": {
        "id": "phZc8HL-UFZL"
      },
      "execution_count": null,
      "outputs": []
    },
    {
      "cell_type": "markdown",
      "source": [
        "### Two sum :https://leetcode.com/problems/two-sum/submissions/\n",
        "\n",
        "```\n",
        "Input: nums = [2,7,11,15], target = 9\n",
        "Output: [0,1]\n",
        "Explanation: Because nums[0] + nums[1] == 9, we return [0, 1].\n",
        "```"
      ],
      "metadata": {
        "id": "yZabfo_o6X4E"
      }
    },
    {
      "cell_type": "markdown",
      "source": [
        "#### Naive \n",
        "\n",
        "Runtime : O(n^2)"
      ],
      "metadata": {
        "id": "KgGrCpzx6kOQ"
      }
    },
    {
      "cell_type": "code",
      "source": [
        "%%timeit\n",
        "\n",
        "class Solution:\n",
        "  def twoSum(self, nums, target):\n",
        "        for i in range(0,len(nums)):\n",
        "            for j in range(i+1,len(nums)):\n",
        "                if nums[i]+nums[j] ==  target:\n",
        "                    return[i,j]"
      ],
      "metadata": {
        "id": "YH8JB_koUb2b",
        "colab": {
          "base_uri": "https://localhost:8080/"
        },
        "outputId": "01572dc0-6da2-4d6e-89f5-c59c4cb35bbc"
      },
      "execution_count": null,
      "outputs": [
        {
          "output_type": "stream",
          "name": "stdout",
          "text": [
            "7.88 µs ± 115 ns per loop (mean ± std. dev. of 7 runs, 100000 loops each)\n"
          ]
        }
      ]
    },
    {
      "cell_type": "markdown",
      "source": [
        "#### Optimized \n",
        "\n",
        "Runtime: O(n)\n",
        "\n",
        "**Idea : Use hashmap to check values and index and check if the reamining sum(`target - array[i]`) present in hashmap or else add**.\n",
        "  * Decrease the lookup time(linear)  \n",
        "\n",
        "Algorithm:\n",
        "  1. Create a hashmap of values and index out of array (array_value :index).\n",
        "    * Reduce the number of checks by using  **hashmap*\n",
        "  2. Calculate the remaining sum.\n",
        "    * Remaining sum = target - array[i]\n",
        "  3. Check if the remaining sum in hashmap[values] \n",
        "    * If remaining sum is present in hashmap, return the index of current index of array and value in the hashmap "
      ],
      "metadata": {
        "id": "vgAkUU_f8nOV"
      }
    },
    {
      "cell_type": "code",
      "source": [
        "%%timeit\n",
        "\n",
        "class Solution:\n",
        "  def twoSum(self, nums, target):\n",
        "    prevMap = {}\n",
        "    for i, n in enumerate(nums):\n",
        "      diff = target - n\n",
        "      if diff in prevMap:\n",
        "        return [prevMap[diff],i]\n",
        "      prevMap[n] = i"
      ],
      "metadata": {
        "colab": {
          "base_uri": "https://localhost:8080/"
        },
        "id": "LQIfHfy87LNX",
        "outputId": "2527c4e5-d5eb-4c81-8535-889fa0e59975"
      },
      "execution_count": null,
      "outputs": [
        {
          "output_type": "stream",
          "name": "stdout",
          "text": [
            "8.91 µs ± 2.13 µs per loop (mean ± std. dev. of 7 runs, 100000 loops each)\n"
          ]
        }
      ]
    },
    {
      "cell_type": "markdown",
      "source": [
        "### Group Anagrams"
      ],
      "metadata": {
        "id": "Q4tzKEaQQFb6"
      }
    },
    {
      "cell_type": "markdown",
      "source": [
        "```\n",
        "Input: strs = [\"eat\",\"tea\",\"tan\",\"ate\",\"nat\",\"bat\"]\n",
        "Output: [[\"bat\"],[\"nat\",\"tan\"],[\"ate\",\"eat\",\"tea\"]]\n",
        "```\n",
        "\n",
        "**Idea : Create a hashmap of 26 letters and append to the map of the counts of individual letters match**"
      ],
      "metadata": {
        "id": "YEhpQx2TTvSm"
      }
    },
    {
      "cell_type": "code",
      "source": [
        "%%timeit\n",
        "\n",
        "from collections import defaultdict\n",
        "\n",
        "strs = [\"eat\",\"tea\",\"tan\",\"ate\",\"nat\",\"bat\"]\n",
        "ans = defaultdict(list)\n",
        "\n",
        "for s in strs:\n",
        "  count = [0] * 26\n",
        "  for c in s:\n",
        "    count[ord(c) - ord('a')] += 1\n",
        "  ans[tuple(count)].append(s)"
      ],
      "metadata": {
        "colab": {
          "base_uri": "https://localhost:8080/"
        },
        "id": "M9KPxj8jQUXa",
        "outputId": "824b6a0c-de1e-4b77-8b8a-ee28efc9799d"
      },
      "execution_count": null,
      "outputs": [
        {
          "output_type": "stream",
          "name": "stdout",
          "text": [
            "10.8 µs ± 224 ns per loop (mean ± std. dev. of 7 runs, 100000 loops each)\n"
          ]
        }
      ]
    },
    {
      "cell_type": "markdown",
      "source": [
        "### Top K Frequent elements \n",
        "\n",
        "```\n",
        "Input: nums = [1,1,1,2,2,3], k = 2\n",
        "Output: [1,2]\n",
        "```"
      ],
      "metadata": {
        "id": "G4D5DhSpkuPk"
      }
    },
    {
      "cell_type": "code",
      "source": [
        "nums = [1,1,1,2,2,3]\n",
        "k = 2"
      ],
      "metadata": {
        "id": "8IVuffBnqHvs"
      },
      "execution_count": 24,
      "outputs": []
    },
    {
      "cell_type": "code",
      "source": [
        "from collections import Counter\n",
        "\n",
        "def topKFrequent(nums,k):\n",
        "  most_common_elements = [ele for ele, count in Counter(nums).most_common(k)]\n",
        "  print(most_common_elements)"
      ],
      "metadata": {
        "id": "cbwBcLWNksUZ"
      },
      "execution_count": 35,
      "outputs": []
    },
    {
      "cell_type": "code",
      "source": [
        "dic = {}\n",
        "\n",
        "for i in nums:\n",
        "  if i in dic:\n",
        "    dic[i] += 1\n",
        "  else:\n",
        "    dic[i] = 1"
      ],
      "metadata": {
        "id": "uy270Alh1MPS"
      },
      "execution_count": 36,
      "outputs": []
    },
    {
      "cell_type": "code",
      "source": [
        "sortedDict = {k:v for k,v in sorted(dic.items(), key = lambda item : item[1])}"
      ],
      "metadata": {
        "id": "O44nm4eu0z9N"
      },
      "execution_count": 37,
      "outputs": []
    },
    {
      "cell_type": "code",
      "source": [
        "[sortedDict[i] for i in list(sortedDict)[:k]]"
      ],
      "metadata": {
        "colab": {
          "base_uri": "https://localhost:8080/"
        },
        "id": "QD7J22UO7_i6",
        "outputId": "ff2bcb3c-2068-45cc-e746-6e12174c32c1"
      },
      "execution_count": 38,
      "outputs": [
        {
          "output_type": "execute_result",
          "data": {
            "text/plain": [
              "[1, 2]"
            ]
          },
          "metadata": {},
          "execution_count": 38
        }
      ]
    }
  ]
}