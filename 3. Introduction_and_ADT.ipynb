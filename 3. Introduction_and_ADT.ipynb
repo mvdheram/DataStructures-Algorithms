{
  "nbformat": 4,
  "nbformat_minor": 0,
  "metadata": {
    "colab": {
      "name": "2.a. Introduction and ADT.ipynb",
      "provenance": [],
      "toc_visible": true,
      "authorship_tag": "ABX9TyOvzWxVilqjk6ms/JKGuIcL",
      "include_colab_link": true
    },
    "kernelspec": {
      "name": "python3",
      "display_name": "Python 3"
    },
    "language_info": {
      "name": "python"
    }
  },
  "cells": [
    {
      "cell_type": "markdown",
      "metadata": {
        "id": "view-in-github",
        "colab_type": "text"
      },
      "source": [
        "<a href=\"https://colab.research.google.com/github/mvdheram/DataStructures-Algorithms/blob/master/2_a_Introduction_and_ADT.ipynb\" target=\"_parent\"><img src=\"https://colab.research.google.com/assets/colab-badge.svg\" alt=\"Open In Colab\"/></a>"
      ]
    },
    {
      "cell_type": "markdown",
      "metadata": {
        "id": "UicJz6tCnjXp"
      },
      "source": [
        "# What is Algorithm ?\n",
        "\n",
        "* A step by step **procedure** to **solve a problem** with **arbitrary sized inputs.**\n",
        "  * Formal way of defining a solution to the problem which people can understand and reason.\n",
        "\n",
        "  ```\n",
        "                        Digital Counterpart \n",
        "\n",
        "    Program                   <->          Algorithm\n",
        "       \n",
        "    Programming language      <->          Pseudo code / Structured english \n",
        "    \n",
        "    Computer                  <->          Model of computation\n",
        "                                            \n",
        "  ```\n",
        "\n",
        "## Model of computation :\n",
        "\n",
        "   * Specifies what operaiton can be performed and the cost of each operation \n",
        "\n",
        "## How to check the correctness and efficiency of an algorithm?\n",
        "\n",
        "  * ### Correctness\n",
        "    * Use inductive hypothesis (as algorithm should handle for arbitrary inputs)\n",
        "      * Prove the algorithm works for a small set of inputs and argue for larger values\n",
        "        *  \"*Assume that algorithm with n inputs is true and then use this assumption to prove that algorithm with n+ 1 is true*\"\n",
        "  * ### Efficiency \n",
        "    * Measure how fast the algorithm runs with arbitrary sized inputs when compared to other algorithms.\n",
        "      * Measure the **cost of operation** rather than time as we are measuring the efficiency of algorithm not its implementation. \n",
        "\n",
        "\n",
        "\n",
        "\n"
      ]
    },
    {
      "cell_type": "markdown",
      "metadata": {
        "id": "YaLoSWY9x0Gq"
      },
      "source": [
        "# What is Data structures ?\n",
        "\n",
        "* A way of organizing data in memory for **efficient** use.\n",
        "* **Ingredients** for creating fast and poweful **algorithms**.\n",
        "* Efficient organization of data to solve general problems (search, sort) with arbitrary sized inputs. "
      ]
    },
    {
      "cell_type": "markdown",
      "metadata": {
        "id": "zG6WeZ6KotWr"
      },
      "source": [
        "## Abstract data type(Interfaces) vs Data structures \n"
      ]
    },
    {
      "cell_type": "markdown",
      "metadata": {
        "id": "zgNQ9fQPDVvD"
      },
      "source": [
        "### ADT (Defines \"What\", \"Specification\") \n",
        "  * Abstraction of data type which provides **interface to data structure**\n",
        "    * Specifies \n",
        "      * What data can be stored \n",
        "      * What Operation  are supported\n",
        "  * **Equivalent to Problem statement** \n",
        "  * E.g\n",
        "    * **List, Queue, Map, etc.**\n",
        "\n",
        "\n",
        "\n",
        "  "
      ]
    },
    {
      "cell_type": "markdown",
      "metadata": {
        "id": "wk0kV5wjJiDU"
      },
      "source": [
        "### Data structure (Defines \"How\", \"Implementation\")\n",
        "  * **Representation of data**\n",
        "  * Specifies\n",
        "    * How to store data\n",
        "    * How to support the operations (Algorithms)\n",
        "  * **Equivalent to solution** \n",
        "  * E.g.\n",
        "    * **Dynamic Array, linked list, linked list based queue, etc.**"
      ]
    },
    {
      "cell_type": "markdown",
      "metadata": {
        "id": "5rzx3asmJkJq"
      },
      "source": [
        "Notes:\n",
        "\n",
        "* `Same interface can be used with different data structures`\n",
        "  * E.g. **Queue (ADT)** can be implemented using **stacks, Linked list** "
      ]
    }
  ]
}
