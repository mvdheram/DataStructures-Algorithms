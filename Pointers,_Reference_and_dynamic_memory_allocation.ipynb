{
  "nbformat": 4,
  "nbformat_minor": 0,
  "metadata": {
    "colab": {
      "name": "Pointers, Reference and dynamic memory allocation.ipynb",
      "provenance": [],
      "authorship_tag": "ABX9TyNgd+DigXnNzPG0T9TPSHf6",
      "include_colab_link": true
    },
    "kernelspec": {
      "name": "python3",
      "display_name": "Python 3"
    },
    "language_info": {
      "name": "python"
    }
  },
  "cells": [
    {
      "cell_type": "markdown",
      "metadata": {
        "id": "view-in-github",
        "colab_type": "text"
      },
      "source": [
        "<a href=\"https://colab.research.google.com/github/mvdheram/DataStructures-Algorithms/blob/master/Pointers%2C_Reference_and_dynamic_memory_allocation.ipynb\" target=\"_parent\"><img src=\"https://colab.research.google.com/assets/colab-badge.svg\" alt=\"Open In Colab\"/></a>"
      ]
    },
    {
      "cell_type": "markdown",
      "source": [
        "# Pointers in C and C++"
      ],
      "metadata": {
        "id": "IFrL6D_7jpds"
      }
    },
    {
      "cell_type": "markdown",
      "source": [
        "**Pointer**\n",
        "\n",
        "  * It is a variable that contains address of another variable\n",
        "  "
      ],
      "metadata": {
        "id": "gK3ngBQFk9rn"
      }
    }
  ]
}