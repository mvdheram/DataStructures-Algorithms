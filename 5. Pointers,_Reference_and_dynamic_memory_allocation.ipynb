{
  "nbformat": 4,
  "nbformat_minor": 0,
  "metadata": {
    "colab": {
      "name": "5. Pointers, Reference and dynamic memory allocation.ipynb",
      "provenance": [],
      "authorship_tag": "ABX9TyO2xDqa9MJKnxejPzswBUDn",
      "include_colab_link": true
    },
    "kernelspec": {
      "name": "python3",
      "display_name": "Python 3"
    },
    "language_info": {
      "name": "python"
    }
  },
  "cells": [
    {
      "cell_type": "markdown",
      "metadata": {
        "id": "view-in-github",
        "colab_type": "text"
      },
      "source": [
        "<a href=\"https://colab.research.google.com/github/mvdheram/DataStructures-Algorithms/blob/master/5.%20Pointers%2C_Reference_and_dynamic_memory_allocation.ipynb\" target=\"_parent\"><img src=\"https://colab.research.google.com/assets/colab-badge.svg\" alt=\"Open In Colab\"/></a>"
      ]
    },
    {
      "cell_type": "markdown",
      "source": [
        "# Pointers in C and C++\n",
        "\n",
        "[1] https://www3.ntu.edu.sg/home/ehchua/programming/cpp/cp4_PointerReference.html"
      ],
      "metadata": {
        "id": "IFrL6D_7jpds"
      }
    },
    {
      "cell_type": "markdown",
      "source": [
        "**Pointer**\n",
        "\n",
        "  * It is a variable that contains address of another variable\n",
        "  "
      ],
      "metadata": {
        "id": "gK3ngBQFk9rn"
      }
    }
  ]
}