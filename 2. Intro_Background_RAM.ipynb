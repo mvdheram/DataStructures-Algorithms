{
  "nbformat": 4,
  "nbformat_minor": 0,
  "metadata": {
    "colab": {
      "name": "2. Intro_Background_RAM.ipynb",
      "provenance": [],
      "collapsed_sections": [],
      "toc_visible": true,
      "include_colab_link": true
    },
    "kernelspec": {
      "name": "python3",
      "display_name": "Python 3"
    },
    "language_info": {
      "name": "python"
    }
  },
  "cells": [
    {
      "cell_type": "markdown",
      "metadata": {
        "id": "view-in-github",
        "colab_type": "text"
      },
      "source": [
        "<a href=\"https://colab.research.google.com/github/mvdheram/DataStructures-Algorithms/blob/master/2.%20Intro_Background_RAM.ipynb\" target=\"_parent\"><img src=\"https://colab.research.google.com/assets/colab-badge.svg\" alt=\"Open In Colab\"/></a>"
      ]
    },
    {
      "cell_type": "markdown",
      "metadata": {
        "id": "UicJz6tCnjXp"
      },
      "source": [
        "# What is Algorithm ?\n",
        "\n",
        "* A step by step **procedure** to **solve a problem** with **arbitrary sized inputs.**\n",
        "  * Formal way of defining a solution to the problem which people can understand and reason.\n",
        "\n",
        "## What is Problem  ?\n",
        "\n",
        "* Specification of what are valid inputs and what are acceptable outputs for each valid input.\n",
        "\n",
        "* E.g.\n",
        "  * GCD of two numbers, finding shortest path \n",
        "\n",
        "## Mathematical Analogue\n",
        "\n",
        "\n",
        "  ```\n",
        "                        Digital Counterpart \n",
        "\n",
        "    Program                   <->          Algorithm\n",
        "       \n",
        "    Programming language      <->          Pseudo code / Structured english \n",
        "    \n",
        "    Computer                  <->          Model of computation\n",
        "                                            \n",
        "  ```\n",
        "\n",
        "## How to check the correctness and efficiency of an algorithm?\n",
        "\n",
        "  * ### Correctness\n",
        "    * Use inductive hypothesis (as algorithm should handle for arbitrary inputs)\n",
        "      * Prove the algorithm works for a small set of inputs and argue for larger values\n",
        "        *  \"*Assume that algorithm with n inputs is true and then use this assumption to prove that algorithm with n+ 1 is true*\"\n",
        "  * ### Efficiency \n",
        "    * Measure how fast the algorithm runs with arbitrary sized inputs when compared to other algorithms.\n",
        "      * Measure the **cost of operation (time, space)** rather than time as we are measuring the efficiency of algorithm not its implementation. \n",
        "\n",
        "\n",
        "\n",
        "\n"
      ]
    },
    {
      "cell_type": "markdown",
      "metadata": {
        "id": "4pkQwtjAJsao"
      },
      "source": [
        "## Model of computation\n",
        "\n",
        "Source : \n",
        "\n",
        "[1]. https://www.youtube.com/watch?v=7KQf7f8ti1U&list=PL7DC83C6B3312DF1E&index=2&ab_channel=nptelhrd\n",
        "\n",
        "[2]. https://www.youtube.com/watch?v=Zc54gFhdpLA&list=PLUl4u3cNGP61Oq3tWYp6V_F-5jb5L2iHb&index=3&ab_channel=MITOpenCourseWare"
      ]
    },
    {
      "cell_type": "markdown",
      "metadata": {
        "id": "zmL8U_YL2SdA"
      },
      "source": [
        "\n",
        "* Mathematical model of computer.\n",
        "* Used to Mentally execute algorithm on model \n",
        "  * Consider the cost(time, space) taken for the each operation in an algorithm. \n",
        "  * What operations an algorithm is allowed to do. \n",
        "* As **computers** can be modelled using **Random Access Memory (RAM) and processor**, **Model of computation (mathematical analogue of computer)** can be modelled using **Random Access Machine (RAM) and processor** .   \n"
      ]
    },
    {
      "cell_type": "markdown",
      "metadata": {
        "id": "Hkk7Eig5J5Li"
      },
      "source": [
        "### Random Access Machine (RAM)\n",
        "\n"
      ]
    },
    {
      "cell_type": "markdown",
      "metadata": {
        "id": "zYfTM8Z5KAwW"
      },
      "source": [
        "* RAM model is a way of modeling \"model of computation\". \n",
        "* Gives a notion of how an algorithm runs on a machine.\n",
        "* It provides a way of analyzing the supported operations and cost (time and space) of an algorithm. \n",
        "* RAM consists of \n",
        "  * **Memory** (contigious blocks of data (64bit/32bit words)- **Array**)\n",
        "  * **Processor** (Process the data (**Execute instructions**))"
      ]
    },
    {
      "cell_type": "markdown",
      "metadata": {
        "id": "WJMuYOV3O1gv"
      },
      "source": [
        "**Background**\n",
        "\n",
        "***Basics***:\n",
        "\n",
        "* **Computer** is a **machine used for computation/calculation** (addition, subtraction etc.) of a real world problem. \n",
        "  * Compute distance between two points\n",
        "  * Calculate time etc.\n",
        "  * Accounting\n",
        "* **Idea (Abacus)** : use position (units, tens, hundered..) with the beads to add, subtract numbers.\n",
        "  E.g.: \n",
        "    * 223 : \n",
        "      * 2, 100's - beads\n",
        "      * 2, 10's - beads\n",
        "      * 3, 1's - beads\n",
        "\n",
        "***Improvements***:\n",
        "\n",
        "1. **Electro-mechanical computing** : **Automation** of this idea lead to computer made of **mechanical moving parts**. \n",
        "  * Complex problems (trignometic etc.) took over a minute.\n",
        "  * Wear and tear of moving mechanical parts.\n",
        "\n",
        "2. **Electronic computing** : To improve the efficiency, these machanical parts were **replaced** by **electronic circuit**.\n",
        "  * **Present day computers** use **transisters** made of semi-conductor for computation.\n",
        "  * **Transisters** can be thought as **electronic switches**. \n",
        "  * Two basic states of transisters are \n",
        "    1. On (Current flowing through transister)\n",
        "    2. Off (Current not flowing through transister)\n",
        "  * Control wire and semi conductor material used to control the flow of electrons. \n",
        "\n",
        "***Electronic computer idea (Boolean logic)***: \n",
        "  \n",
        "  * Use **boolean algebra** (**Binary logic based on true or false**) to compute several operations.\n",
        "  * **Binary Logic** :\n",
        "    * 1 (Representing True / electricity flowing through transister)\n",
        "    * 0 (Representing False / Electricity not flowing through transister)\n",
        "  * Three fundamental operations of boolean algebra\n",
        "      * NOT \n",
        "        * 1 Inputs : True / False\n",
        "        * 1 Ouput : Negate the input \n",
        "      * AND (Two connected transisters)\n",
        "        * 2 Inputs : True / False\n",
        "        * 2 Ouput : Return True if both are True \n",
        "      * OR (Two connected transisters)\n",
        "        * 2 Inputs : True / False\n",
        "        * 2 Ouput : Return false if both are false\n",
        "  * **Representation of data**  \n",
        "    * General (Decimal - Base 10 notation - 0 to 9 possible digits per place with 10 multiplier)\n",
        "      * Abacus idea : 10 beads per position and a multiplier of 10 per position.\n",
        "      * E.g.: \n",
        "          - `263  = 3 * 1 + 6 *10 + 2 * 100`   \n",
        "    * **Binary** (Base 2 notation - 0 or 1 digit per place with 2 multiplier)\n",
        "        * E.g. **3 BIT binary** :  \n",
        "          - `101  = 1 * 1 + 0 *2 + 1 * 4 = 5`\n",
        "        * **Each digit (0 or 1) is called Bit**\n",
        "        * **8 BIT binary representation (A.K.A *BYTE*) can hold from 0 to 2^8(255); Total 256 different values**.\n",
        "        * **32 BIT/ 64 BIT computers can represent 0 to 9,223,372,036,854,775,808 (9.2 quintillion) numbers.**\n",
        "\n",
        "* **Computation using Binary representation**\n",
        "  * **Arthematic Logic unit (ALU) is used for all the computations** i.e arthematic unit deals with (addition, subtraction etc.) and logic unit deals with logical operations (AND, OR , NOT)\n",
        "  * **It does using combination of logic gates (AND, OR ,NOT, XOR)**\n",
        "    * Logic gates are combination of transister (connecting the transister circuit as series or parallel) to control the flow of electricity.\n",
        "    * *E.g. : ALU 74141 uses 70 logic gates to do add, subtract, divide and multiply.*\n",
        "      * *Divide and multiply can be further reduced to add and subtract problems.* \n",
        "  * **For example combining XOR and AND logic gates gives us half adder**\n",
        "  * For e.g. : 8 bit ALU - uses two 8 bits units (A,B) for input and one 4 bit operation code (1000 - for addition etc.) to specify operation. The ALU has 8 bit outputs  with flags denoting negative zero and overflow bits\n",
        "\n",
        "---\n",
        "\n",
        "**Summary**: \n",
        "\n",
        "`Computer -> build on -> Transisters circuit -> Two states (ON and OFF) of transister + Boolean algebra ( boolean states (Ture or False) +  properties) -> logic gates (AND,NOT,OR, XOR) - Combination of transister with different orientation of input and output -> Combination of logic gates -> Computation (add, subtract etc.)`\n",
        "\n",
        "---"
      ]
    },
    {
      "cell_type": "markdown",
      "metadata": {
        "id": "dAs_-U9TtN8K"
      },
      "source": [
        "**Registers and RAM (Memroy)**\n",
        "\n",
        "* Why Memory ??\n",
        "  * Store the computation value performed by ALU.\n",
        "\n",
        "* What is memory ??\n",
        "  * Location where the bits of information is stored for further use.\n",
        "\n",
        "* How are bits stored??\n",
        "  * **Latch (AND-OR LATCH)** \n",
        "    * **Mechanism of combining logic gates with a recurrent loop** ( feed output of the logic gates as one of the inputs).\n",
        "      * Basic Idea : \n",
        "        * Use data line (input) and a write enable line (flag for storing) to enable the latch to store the inputs.\n",
        "    * **Latch used to store 1 bit of information**.\n",
        "    * **Group of latches** is called a **register** and used to **store a number**.\n",
        "      * *E.g. : 8 latches side by side can store a 8 bit (A.K.A 1 Byte) information/number i.e from 0 to 256 numbers .*\n",
        "    * **Width of register (Number of latches) can vary from 8 Bits to 64 bit registers**\n",
        "    * **These registers are arranged in the form of grids (save wiring) and is known as Random Access Memory (RAM)**\n",
        "      * **As the number of registers increase so does the width of address.**  \n",
        "        * E.g. : 8 bit data needs 8 bit address; to address Giga bytes of memory we need 32 or 64 bit addresses. \n",
        "    * **Each register can be accessed with corresponding (row,column) address. Hence the name random access.**\n",
        "    * **The same mechanism is applied and scaled to provide giga Bytes of RAM**.\n",
        "      * Packaging matrix of bits of memory to byte, kilo bytes, mega bytes, giga bytes of memory. \n",
        "  \n",
        "* **Summary** \n",
        "  * **Latch (combination of logic gates with a loop) -> Hold single bit of binary data (0/1) -> Combining latches -> Registers -> packaging registers in the form of grid/matrix -> Random Access Memory(RAM)**\n",
        "\n",
        "* **Misc**: \n",
        "\n",
        "  *  Two types of memory \n",
        "    * Random Access Memory (RAM) \n",
        "      * Volatile and non-persistent\n",
        "      * Information lost as soon as power is turned off.\n",
        "    * Persistent memory (secondary memory/ Hard drive)\n",
        "      * Non - volatile and persistent\n",
        "      * Information persists after the power is turned off.\n",
        "\n",
        "  * Data Measurement \n",
        "    * 1 Bit - 0/1  (Single Binary digit)\n",
        "    * 1 Byte = 8 bits ( 0 - 256 different numbers)\n",
        "    * 1 Kilo Byte (1KB) = 1024 Byte \n",
        "    * 1 Mega Byte (1MB) = 1024 KB\n",
        "    * 1 Giga Byte (1GB) = 1024 MB\n",
        "    * 1 Terra Byte (1TB) = 1024 GB\n"
      ]
    }
  ]
}